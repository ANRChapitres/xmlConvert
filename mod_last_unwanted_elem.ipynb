{
 "cells": [
  {
   "cell_type": "code",
   "execution_count": null,
   "metadata": {},
   "outputs": [],
   "source": [
    "import os\n",
    "import glob\n",
    "import re\n",
    "from collections import OrderedDict\n",
    "from io import StringIO\n",
    "from lxml import etree as ET\n",
    "import lxml.html"
   ]
  },
  {
   "cell_type": "code",
   "execution_count": null,
   "metadata": {},
   "outputs": [],
   "source": [
    "source_dir=\"/home/odysseus/Bureau/ANR/test_epubs_manquants/\"\n",
    "files= glob.iglob(source_dir+'/**/*.xml', recursive=True)\n",
    "\n",
    "# Parsing\n",
    "\n",
    "for filename in files :\n",
    "    text=\"\"\n",
    "    with open(filename, 'r') as reader:\n",
    "        text=reader.read()"
   ]
  }
 ],
 "metadata": {
  "kernelspec": {
   "display_name": "Python 3",
   "language": "python",
   "name": "python3"
  },
  "language_info": {
   "codemirror_mode": {
    "name": "ipython",
    "version": 3
   },
   "file_extension": ".py",
   "mimetype": "text/x-python",
   "name": "python",
   "nbconvert_exporter": "python",
   "pygments_lexer": "ipython3",
   "version": "3.6.9"
  }
 },
 "nbformat": 4,
 "nbformat_minor": 2
}
