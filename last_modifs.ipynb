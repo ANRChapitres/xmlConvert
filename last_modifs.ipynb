{
 "cells": [
  {
   "cell_type": "code",
   "execution_count": 2,
   "metadata": {},
   "outputs": [],
   "source": [
    "import os\n",
    "import glob\n",
    "import re\n",
    "from collections import OrderedDict\n",
    "from io import StringIO\n",
    "from lxml import etree as ET\n",
    "import lxml.html"
   ]
  },
  {
   "cell_type": "code",
   "execution_count": 3,
   "metadata": {},
   "outputs": [],
   "source": [
    "def strip_ns_prefix(tree):\n",
    "    query = \"descendant-or-self::*[namespace-uri()!='']\"\n",
    "    for element in tree.xpath(query):\n",
    "        element.tag = ET.QName(element).localname\n",
    "    return tree"
   ]
  },
  {
   "cell_type": "code",
   "execution_count": 4,
   "metadata": {},
   "outputs": [],
   "source": [
    "def parse_from_unicode(unicode_str):\n",
    "    s = unicode_str.encode('utf-8')\n",
    "    return ET.fromstring(s, parser=utf8_parser)"
   ]
  },
  {
   "cell_type": "code",
   "execution_count": 73,
   "metadata": {},
   "outputs": [
    {
     "name": "stdout",
     "output_type": "stream",
     "text": [
      "['l-amant-de-genevieve', 'daniel-lesueur']\n",
      "['1944', 'Simenon-Georges', 'Felicie-est-la']\n",
      "['levres-closes', 'daniel-lesueur']\n",
      "b'<p xmlns=\"http://www.tei-c.org/ns/1.0\" rend=\"block8\">Mme de Verdun-Lautrec, veuve depuis deux ans et alors dans tout l\\'\\xc3\\xa9clat de sa beaut\\xc3\\xa9, se trouvait \\xc3\\xa0 l\\'audience. Pr\\xc3\\xa9occup\\xc3\\xa9e de l\\'inclination qui la portait vers \\xc3\\x89douard de S\\xc3\\xa9lys, elle \\xc3\\xa9tait all\\xc3\\xa9e l\\'entendre. Elle fut conquise. Bient\\xc3\\xb4t apr\\xc3\\xa8s elle devenait sa femme.</p>\\n'\n",
      "b'<p xmlns=\"http://www.tei-c.org/ns/1.0\" rend=\"block13\">Mme de S\\xc3\\xa9lys prit la lettre, et regarda cette petite s\\xc5\\x93ur blonde qu\\'elle ch\\xc3\\xa9rissait d\\'une si vraie tendresse, qui, en ce moment, souffrait tant \\xc3\\xa0 cause d\\'elle, et qui n\\'aurait m\\xc3\\xaame pas l\\'apaisement de comprendre. Elle murmura :</p>\\n'\n",
      "b'<p xmlns=\"http://www.tei-c.org/ns/1.0\" rend=\"block7\">Mme de S\\xc3\\xa9lys regarda cette enfant.</p>\\n'\n",
      "b'<p xmlns=\"http://www.tei-c.org/ns/1.0\" rend=\"block7\">Mme de S\\xc3\\xa9lys s\\'\\xc3\\xa9tait arr\\xc3\\xaat\\xc3\\xa9e en sortant de l\\'ascenseur. Elle s\\'accoudait \\xc3\\xa0 la rampe, dans le silence de l\\'escalier, incapable d\\'un mouvement, et toute frissonnante de l\\'\\xc3\\xa9clipse int\\xc3\\xa9rieure, de l\\'ombre glac\\xc3\\xa9e qui, brusquement, tombait en elle.</p>\\n'\n",
      "b'<p xmlns=\"http://www.tei-c.org/ns/1.0\" rend=\"block8\">Mme de S\\xc3\\xa9lys fit un mouvement.</p>\\n'\n",
      "b'<p xmlns=\"http://www.tei-c.org/ns/1.0\" rend=\"block8\">Mme de S\\xc3\\xa9lys l\\'embrassa pour dissimuler un sourire.</p>\\n'\n",
      "b'<p xmlns=\"http://www.tei-c.org/ns/1.0\" rend=\"block11\">Mme de S\\xc3\\xa9lys ne se posa pas la question. Philippe \\xc3\\xa9tait l\\xc3\\xa0. Il ne pouvait pas ne pas y \\xc3\\xaatre. Ne venait-il pas effacer par un \\xc3\\xa9change de regards l\\'ombre si l\\xc3\\xa9g\\xc3\\xa8re et pourtant si intol\\xc3\\xa9rable entre eux ? A peine loin d\\'elle, comme elle \\xc3\\xa0 peine loin de lui, ils avaient souffert du m\\xc3\\xaame tourment. Cette futile brouille. un peu de reproche, un peu de tristesse dans leurs yeux, un peu de froideur dans leurs paroles, avaient-ils pu, l\\'un ou l\\'autre, supporter cela ?</p>\\n'\n",
      "b'<p xmlns=\"http://www.tei-c.org/ns/1.0\" rend=\"block8\">Mme de S\\xc3\\xa9lys avance le buste hors de la voiture. Elle va enjoindre au cocher de retourner.</p>\\n'\n",
      "['1905', 'Rebell-Hugues', 'Gringalette']\n",
      "['1902', 'Le-Rouge-Gustave', 'La-Princesse-des-airs-Tome-I']\n",
      "['1902', 'Le-Rouge-Gustave', 'La-Princesse-des-airs-Tome-II']\n",
      "['l-honneur-d-une-femme', 'daniel-lesueur']\n",
      "b'<p xmlns=\"http://www.tei-c.org/ns/1.0\" rend=\"block9\">Mme Nogaret eut un geste qui signifiait aussi bien : \\xc2\\xab\\xc2\\xa0Peu m\\'importe \\xc2\\xbb, que : \\xc2\\xab\\xc2\\xa0 Faites ce que vous voudrez. \\xc2\\xbb</p>\\n'\n",
      "b'<p xmlns=\"http://www.tei-c.org/ns/1.0\" rend=\"block9\">Mme Nogaret inclina la t\\xc3\\xaate dans une lente affirmation.</p>\\n'\n",
      "b'<p xmlns=\"http://www.tei-c.org/ns/1.0\" rend=\"block9\">Mme de Vasqueuil, tir\\xc3\\xa9e \\xc3\\xa0 quatre \\xc3\\xa9pingles d\\xc3\\xa8s cette heure matinale d\\'avant midi et dans cette intimit\\xc3\\xa9 de campagne, offrait au supr\\xc3\\xaame degr\\xc3\\xa9 ce chic sp\\xc3\\xa9cial des gravures de mode dont s\\'encombrent les tables des grands couturiers. Pour la plupart des mondaines, rien ne d\\xc3\\xa9passe l\\'esth\\xc3\\xa9tique de ces figurines. Elles ne con\\xc3\\xa7oivent pas la s\\xc3\\xa9duction d\\'un peu d\\'irr\\xc3\\xa9gularit\\xc3\\xa9 personnelle dans une toilette, dans une coiffure, du rien qui s\\xc3\\xa9pare l\\'individualit\\xc3\\xa9 f\\xc3\\xa9minine de son cadre et sugg\\xc3\\xa8re sa gr\\xc3\\xa2ce aux minutes famili\\xc3\\xa8res o\\xc3\\xb9 elle doit se montrer sans appr\\xc3\\xaat. Il y a des femmes qu\\'on ne saurait concevoir d\\xc3\\xa9coiff\\xc3\\xa9es ou d\\xc3\\xa9faites, et qui, si on l\\xe2\\x80\\x99imagine, y perdraient trop. Adeline de Vasqueuil appartenait \\xc3\\xa0 cette cat\\xc3\\xa9gorie. Mais elle \\xc3\\xa9tait coutumi\\xc3\\xa8re des succ\\xc3\\xa8s de salon, de casino, d\\'Op\\xc3\\xa9ra. Et, dans la rue, \\xc3\\xa0 pied ou en voiture, elle ne perdait jamais la sensation que les t\\xc3\\xaates se retournaient sur son passage. Cela constituait pour elle la saveur m\\xc3\\xaame de la vie.</p>\\n'\n",
      "b'<p xmlns=\"http://www.tei-c.org/ns/1.0\" rend=\"block9\">Mme de Vasqueuil, \\xc3\\xa0 Paris, se promenait dans une voiture lou\\xc3\\xa9e au mois. Son mari, fraction d\\'agent de change, ne daignait ou n\\'osait risquer dans le commerce, l\\'industrie, la sp\\xc3\\xa9culation, un assez joli patrimoine. Leur train de maison, fort convenable d\\'ailleurs, n\\'avait donc nulle chance de s\\'accro\\xc3\\xaetre. Aussi toute la distance de l\\'inaccessible embellissait le spectacle sur lequel en ce moment elle attachait les yeux.</p>\\n'\n",
      "b'<p xmlns=\"http://www.tei-c.org/ns/1.0\" rend=\"block9\">Mme Nogaret se rappela des indices r\\xc3\\xa9cents \\xe2\\x80\\x94 de ces insignifiants indices qui prennent seulement un sens lorsqu\\'une circonstance plus caract\\xc3\\xa9ristique les confirme, mais qui surgissent alors en avertissements si distincts.</p>\\n'\n",
      "b'<p xmlns=\"http://www.tei-c.org/ns/1.0\" rend=\"block9\">Mme Jussecourt fit observer que pour M. Nogaret les deux s\\xc3\\xa9jours se valaient comme d\\xc3\\xa9placement quotidien, la verrerie de Courbevoie \\xc3\\xa9tant \\xc3\\xa0 \\xc3\\xa9gale distance de Marnes et de la place des \\xc3\\x89tats-Unis.</p>\\n'\n",
      "b'<p xmlns=\"http://www.tei-c.org/ns/1.0\" rend=\"block9\">Mme Jussecourt, bl\\xc3\\xaame jusqu\\'aux l\\xc3\\xa8vres, avait l\\'air contrari\\xc3\\xa9, interloqu\\xc3\\xa9, d\\'une femme chez qui un scandale \\xc3\\xa9claterait \\xc3\\xa0 l\\'improviste. Ce fut elle qui parla la premi\\xc3\\xa8re, dans le glacial silence tomb\\xc3\\xa9 de nouveau. Sa voix s\\'\\xc3\\xa9leva, d\\'une aigreur \\xc3\\xa0 agacer les dents :</p>\\n'\n",
      "b'<p xmlns=\"http://www.tei-c.org/ns/1.0\" rend=\"block9\">Mme Riaguet demeurait rue de Courcelles, au premier \\xc3\\xa9tage d\\'un immeuble bab\\xc3\\xa9lique, dont la porte coch\\xc3\\xa8re \\xc3\\xa9tait surmont\\xc3\\xa9e d\\'une plaque en marbre sur laquelle on lisait : \\xc2\\xab\\xc2\\xa0Propri\\xc3\\xa9t\\xc3\\xa9 de la Soci\\xc3\\xa9t\\xc3\\xa9 des Po\\xc3\\xaales mobiles Riaguet. \\xc2\\xbb De l\\'immense galerie d\\'entr\\xc3\\xa9e, au seuil de l\\'appartement, d\\'Arthail entendit le bruissement des voix. Il y avait beaucoup de monde dans les salons clairs, au p\\xc3\\xa2le mobilier biscornu, aux potiches de cauchemar, aux rares et impalpables tentures glissant par de gros anneaux de cuivre sur des tringles apparentes. Au lieu de porti\\xc3\\xa8re, une grille en fer forg\\xc3\\xa9 se d\\xc3\\xa9veloppait entre deux pi\\xc3\\xa8ces. Et l\\'\\xc5\\x93il s\\'\\xc3\\xa9garait dans l\\'\\xc3\\xa9blouissement de si nombreux petits carreaux de glace, que l\\'officier tenta de p\\xc3\\xa9n\\xc3\\xa9trer dans un mur, et faillit saluer, au lieu de la personne r\\xc3\\xa9elle, l\\'image r\\xc3\\xa9fl\\xc3\\xa9chie de la ma\\xc3\\xaetresse de la maison.</p>\\n'\n",
      "b'<p xmlns=\"http://www.tei-c.org/ns/1.0\" rend=\"block9\">Mme Riaguet le regarda, m\\xc3\\xa9dus\\xc3\\xa9e. Sous une \\xc3\\xa9paisseur de cold-cream et de poudre de riz, sa rougeur transparut.</p>\\n'\n",
      "b'<p xmlns=\"http://www.tei-c.org/ns/1.0\" rend=\"block9\">Mme de Vasqueuil commen\\xc3\\xa7ait \\xc3\\xa0 regretter ses r\\xc3\\xa9v\\xc3\\xa9lations. Elle avait \\xc3\\xa9t\\xc3\\xa9 un peu loin. Mais aussi comment cette pauvre Daria s\\'\\xc3\\xa9tait-elle permis, dans sa situation inf\\xc3\\xa9rieure et isol\\xc3\\xa9e, des allusions indiscr\\xc3\\xa8tes sur sa conduite, \\xc3\\xa0 elle, Adeline, \\xe2\\x80\\x94 que sauvegardait l\\'attitude imperturbable d\\'un mari estim\\xc3\\xa9 partout pour un galant homme ?</p>\\n'\n",
      "b'<p xmlns=\"http://www.tei-c.org/ns/1.0\" rend=\"block9\">Mme de Vasqueuil, en d\\xc3\\xa9sarroi, consid\\xc3\\xa9rait son ancien sigisb\\xc3\\xa9e. Rien de plus d\\xc3\\xa9plaisant ne pouvait survenir, pensait-elle, que ce qui lui arrivait ce soir. Quelle d\\xc3\\xa9licatesse ou quel scrupule, \\xc3\\xa9panoui par prodige dans ce lourd terrain, allait faire \\xc3\\xa9chouer tous ses plans ? Elle s\\'\\xc3\\xa9nervait d\\'autant plus que son inconscience ne comprenait rien \\xc3\\xa0 ce qui se passait en Georges. Le fils Riaguet, le \\xc2\\xab\\xc2\\xa0fils des po\\xc3\\xaales mobiles \\xc2\\xbb, comme l\\'appelait Nicole, aussi rond et obtus que les appareils paternels, se m\\xc3\\xaalait de quintessencier les sentiments. C\\'\\xc3\\xa9tait \\xc3\\xa0 n\\'y pas croire.</p>\\n'\n",
      "b'<p xmlns=\"http://www.tei-c.org/ns/1.0\" rend=\"block9\">Mme Nogaret habitait toujours la m\\xc3\\xaame vieille maison, qui, \\xc3\\xa0 c\\xc3\\xb4t\\xc3\\xa9 de modernes immeubles tout neufs, avait un air de fi\\xc3\\xa8re parente pauvre. Des escaliers d\\xc3\\xa9sign\\xc3\\xa9s par des lettres de l\\'alphabet d\\xc3\\xa9sorientaient toujours le visiteur, dans la grande cour. Seulement Daria avait quitt\\xc3\\xa9 le cinqui\\xc3\\xa8me pour prendre un appartement au premier \\xc3\\xa9tage, juste au-dessus de l\\'atelier qui lui servait de salle d\\'\\xc3\\xa9tudes. M\\xc3\\xaame elle avait fait \\xc3\\xa9tablir la communication par un joli escalier de ch\\xc3\\xaane, \\xc3\\xa0 spirale carr\\xc3\\xa9e et \\xc3\\xa0 rampe de bois, qui, d\\'un angle de cette \\xc3\\xa9norme pi\\xc3\\xa8ce, montait au-dessus, dans son antichambre.</p>\\n'\n",
      "b'<p xmlns=\"http://www.tei-c.org/ns/1.0\" rend=\"block9\">Mlle de Vasqueuil se recula, interloqu\\xc3\\xa9e. Puis, imm\\xc3\\xa9diatement, elle hocha sa t\\xc3\\xaate blonde, et dit avec une sagacit\\xc3\\xa9 qui e\\xc3\\xbbt paru comique \\xc3\\xa0 tout autre moment :</p>\\n'\n",
      "['passion-slave', 'daniel-lesueur']\n"
     ]
    },
    {
     "name": "stdout",
     "output_type": "stream",
     "text": [
      "b'<p xmlns=\"http://www.tei-c.org/ns/1.0\" rend=\"block9\">Mlle Kavetchine paraissait vraiment heureuse. Mais, des deux amies, la comtesse \\xc3\\xa9tait la plus \\xc3\\xa9mue. Il est vrai que Nad\\xc3\\xa8je avait au c\\xc5\\x93ur une source de sentiments si tumultueux et si tendres que son sein pouvait bien se gonfler, ses yeux se noyer de larmes... Son amiti\\xc3\\xa9 s\\xe2\\x80\\x99enrichissait inconsciemment de l\\xe2\\x80\\x99exc\\xc3\\xa8s de son amour.</p>\\n'\n",
      "b'<p xmlns=\"http://www.tei-c.org/ns/1.0\" rend=\"block9\">Mlle Kavetchine gardait ses yeux fix\\xc3\\xa9s sur ceux de M. de Br\\xc3\\xa9naz. Elle sourit.</p>\\n'\n",
      "b'<p xmlns=\"http://www.tei-c.org/ns/1.0\" rend=\"block9\">Mme de Miranoff leva sur Hubert deux grands yeux pleins de stup\\xc3\\xa9faction. Mais il ne put en dire davantage, et n\\xe2\\x80\\x99eut que le temps de se rejeter promptement en arri\\xc3\\xa8re. Sans doute, Serge Krilovsky avait attendu, pr\\xc3\\xa8s de sa porte entrouverte, l\\xe2\\x80\\x99instant o\\xc3\\xb9 Sonia l\\xe2\\x80\\x99appellerait, car, sans que l\\xe2\\x80\\x99on e\\xc3\\xbbt entendu aucun bruit, aucun pourparler, les deux fianc\\xc3\\xa9s \\xe2\\x80\\x94 ou plut\\xc3\\xb4t, suivant l\\xe2\\x80\\x99opinion de M. de Br\\xc3\\xa9naz, les deux amants \\xe2\\x80\\x94 apparurent presque aussit\\xc3\\xb4t sur le seuil.</p>\\n'\n",
      "b'<p xmlns=\"http://www.tei-c.org/ns/1.0\" rend=\"block9\">Mlle Kavetchine rentrait la premi\\xc3\\xa8re. A demi tourn\\xc3\\xa9e vers le personnage qui la suivait, elle le pr\\xc3\\xa9senta d\\xe2\\x80\\x99un geste et d\\xe2\\x80\\x99un mot pleins d\\xe2\\x80\\x99emphase :</p>\\n'\n",
      "b'<p xmlns=\"http://www.tei-c.org/ns/1.0\" rend=\"block9\">Mme de Miranoff, en proie \\xc3\\xa0 une singuli\\xc3\\xa8re tristesse, redescendit rapidement les cinq \\xc3\\xa9tages, mont\\xc3\\xa9s un moment auparavant dans la griserie d\\xe2\\x80\\x99un si romanesque enthousiasme. Hubert la suivait, d\\xc3\\xa9vor\\xc3\\xa9 d\\xe2\\x80\\x99inqui\\xc3\\xa9tude, ne se pardonnant pas de l\\xe2\\x80\\x99avoir aid\\xc3\\xa9e en une pareille d\\xc3\\xa9marche. Il songeait \\xc3\\xa0 ce papier laiss\\xc3\\xa9 entre les mains de Sonia, et \\xc3\\xa0 certains t\\xc3\\xa9moignages \\xc3\\xa9crits, entre autres \\xc3\\xa0 la premi\\xc3\\xa8re lettre de la comtesse, o\\xc3\\xb9 elle le pr\\xc3\\xa9sentait \\xc3\\xa0 son amie, lui disant de consid\\xc3\\xa9rer le marquis comme son repr\\xc3\\xa9sentant, \\xc3\\xa0 elle-m\\xc3\\xaame, Nad\\xc3\\xa8je.</p>\\n'\n",
      "b'<p xmlns=\"http://www.tei-c.org/ns/1.0\" rend=\"block9\">Mlle Kavetchine supporta ce regard, trop absorb\\xc3\\xa9e par de soudaines r\\xc3\\xa9flexions pour en \\xc3\\xa9prouver de la col\\xc3\\xa8re ou de la g\\xc3\\xaane.</p>\\n'\n",
      "b'<p xmlns=\"http://www.tei-c.org/ns/1.0\" rend=\"block9\">Mlle Kavetchine le regarda encore d\\xe2\\x80\\x99une fa\\xc3\\xa7on si singuli\\xc3\\xa8re qu\\xe2\\x80\\x99un frisson courut entre les \\xc3\\xa9paules du jeune homme.</p>\\n'\n",
      "b'<p xmlns=\"http://www.tei-c.org/ns/1.0\" rend=\"block9\">Mlle Kavetchine lui tendit la main.</p>\\n'\n",
      "b'<p xmlns=\"http://www.tei-c.org/ns/1.0\" rend=\"block9\">Mme de Miranoff eut un mouvement rapide :</p>\\n'\n",
      "['1899', 'Le-Rouge-Gustave', 'La-Conspiration-des-milliardaires-Tome-III-Le-Regiment-des-hypnotiseurs']\n",
      "['1944', 'Simenon-Georges', 'L-Inspecteur-cadavre']\n",
      "['1906', 'Zevaco-Michel', 'Borgia-']\n",
      "['nevrosee', 'daniel-lesueur']\n",
      "b'<p xmlns=\"http://www.tei-c.org/ns/1.0\" rend=\"block1\">Mme Gerbier, voyant que le savant ne pensait point \\xc3\\xa0 lui offrir son bras, vint le lui prendre avec sa gracieuse simplicit\\xc3\\xa9, puis le fit asseoir \\xc3\\xa0 sa droite.<seg rend=\"tab\">\\xc2\\xa0\\xc2\\xa0\\xc2\\xa0\\xc2\\xa0\\xc2\\xa0\\xc2\\xa0</seg></p>\\n'\n",
      "b'<p xmlns=\"http://www.tei-c.org/ns/1.0\" rend=\"block1\">Mme Gerbier sut bien vite que sa s\\xc5\\x93ur \\xc3\\xa9tait violemment aim\\xc3\\xa9e par Maxime. D\\xe2\\x80\\x99instinct, par divination de la nature \\xc3\\xa9lev\\xc3\\xa9e et sinc\\xc3\\xa8re du jeune homme, elle en \\xc3\\xa9prouva de la joie. Puis elle craignit que ses grands-parents, qu\\'\\xc3\\x89tiennette elle-m\\xc3\\xaame, ne s\\xe2\\x80\\x99opposassent \\xc3\\xa0 une troisi\\xc3\\xa8me m\\xc3\\xa9salliance dans la famille.</p>\\n'\n",
      "b'<p xmlns=\"http://www.tei-c.org/ns/1.0\" rend=\"block1\">Mme Gerbier, cependant, malgr\\xc3\\xa9 son ing\\xc3\\xa9nieuse d\\xc3\\xa9licatesse et sa douce patience, commen\\xc3\\xa7ait \\xc3\\xa0 trouver le temps long. Elle ne percevait pas le sens d\\xe2\\x80\\x99un seul mot, et b\\xc3\\xa2illait sans bruit derri\\xc3\\xa8re son gant de Su\\xc3\\xa8de. Un des chevaux de son coup\\xc3\\xa9 s\\xe2\\x80\\x99\\xc3\\xa9broua dans la rue ; on l\\xe2\\x80\\x99entendit par la fen\\xc3\\xaatre ouverte. Elle profita de ce pr\\xc3\\xa9texte pour se lever. Maxime, qui l\\'avait parfaitement oubli\\xc3\\xa9e, se confondit en excuses et la suivit \\xc3\\xa0 regret.</p>\\n'\n",
      "b'<p xmlns=\"http://www.tei-c.org/ns/1.0\" rend=\"block1\">Mme Gerbier la regarda, eut un sourire, et reporta ses yeux sur Maxime.</p>\\n'\n",
      "b'<p xmlns=\"http://www.tei-c.org/ns/1.0\" rend=\"block1\">Mme Gerbier serra autour d\\xe2\\x80\\x99elle sa jupe de foulard pour grimper le petit escalier. Les ouvriers, se d\\xc3\\xa9couvrant, la regardaient circuler parmi eux. Rien que de la voir passer si gentiment parmi les leviers et les cylindres, c\\xe2\\x80\\x99\\xc3\\xa9tait une joie !...</p>\\n'\n",
      "b'<p xmlns=\"http://www.tei-c.org/ns/1.0\" rend=\"block1\">Mme Gerbier s\\xe2\\x80\\x99abritait sous une grande ombrelle de soie blanche, car un vif soleil de mi-juin ruisselait et p\\xc3\\xa9tillait sur l\\xe2\\x80\\x99\\xc3\\xa9l\\xc3\\xa9gante promenade. Il \\xc3\\xa9tait environ cinq heures, et la brillante repr\\xc3\\xa9sentation mondaine qui se donne l\\xc3\\xa0 tous les jours au commencement de l\\xe2\\x80\\x99\\xc3\\xa9t\\xc3\\xa9, se d\\xc3\\xa9veloppait dans tout son \\xc3\\xa9clat.</p>\\n'\n",
      "b'<p xmlns=\"http://www.tei-c.org/ns/1.0\" rend=\"block1\">Mme Gerbier ne se plaignait pas de son mari. Au contraire, elle dit \\xc3\\xa0 Maxime qu\\'il devenait plus raisonnable, la quittait moins sous pr\\xc3\\xa9texte d\\xe2\\x80\\x99aller au cercle, passait plus de temps \\xc3\\xa0 la scierie, et, le soir, demeurait volontiers \\xc3\\xa0 la maison, en famille. D\\'ailleurs il adorait ses enfants.</p>\\n'\n",
      "b'<p xmlns=\"http://www.tei-c.org/ns/1.0\" rend=\"block1\">Mme Gerbier eut presque peur.</p>\\n'\n",
      "b'<p xmlns=\"http://www.tei-c.org/ns/1.0\" rend=\"block1\">Mme Gerbier ne fut pas surprise de constater que sa s\\xc5\\x93ur se trouvait en pens\\xc3\\xa9e \\xc3\\xa0 cent lieues de la repr\\xc3\\xa9sentation, car elle l\\'observait depuis un moment. Mais un \\xc3\\xa9clair singulier s\\xc3\\xa9cha les paupi\\xc3\\xa8res de N\\xc3\\xa9nette. Norbert entrait. Suzanne la vit, cette fois, tr\\xc3\\xa8s attentive, oublieuse des mots qu\\xe2\\x80\\x99elle venait de prononcer, de son fugitif attendrissement.</p>\\n'\n",
      "b'<p xmlns=\"http://www.tei-c.org/ns/1.0\" rend=\"block1\">Mme Gerbier ne r\\xc3\\xa9pondit pas.</p>\\n'\n",
      "['1899', 'Le-Rouge-Gustave', 'La-Conspiration-des-milliardaires-Tome-IV-La-revanche-du-Vieux-Monde']\n"
     ]
    }
   ],
   "source": [
    "source_dir=\"/home/odysseus/Bureau/ANR/epub_pour_test/\"\n",
    "files= glob.iglob(source_dir+'/*.xml', recursive=True)\n",
    "\n",
    "\n",
    "# Parsing\n",
    "\n",
    "for filename in files :\n",
    "    #print(filename)\n",
    "    basename=(filename[:-4])\n",
    "    infos=re.split(\"_\",basename[basename.rfind(\"/\")+1:])\n",
    "    print(infos)\n",
    "    \n",
    "    text=\"\"\n",
    "    \n",
    "    with open(filename, 'r') as reader:\n",
    "        text=reader.read()\n",
    "        \n",
    "    text=re.sub('\\s*xml:id=\\\"[A-Za-z0-9\\-_:]+\\\"', '', text)\n",
    "    text=re.sub('<meta xml:id=\\\"[A-Za-z\\-: 0-9_]*\\\"\\s*(content=\")*[A-Za-z\\s,\\'.(0-9\\-)&;:{}]*(\"/>)*\\n','',text)\n",
    "    text=re.sub('<meta xml:id=\"[A-Za-z\\-: 0-9_]*\"/>\\n', '', text)\n",
    "    text=re.sub('xsi:type=\"[A-Za-z0-9:]*\"', '', text)\n",
    "    text=re.sub(' xml:id=\\\"[a-zA-Z0-9]*\\\"','',text)\n",
    "    text=re.sub(\"(\\n*\\s*<seg>\\n*\\s*)q(\\n*\\s*</seg>\\n*\\s*)\",\"\",text)\n",
    "\n",
    "    pattern = re.compile(\"(\\n*\\s*(<hi(\\srend=\\\"italic\\\")*>\\n*\\s*)+(<seg>)*\\n*\\s*)([Mmlle]+)(\\n*\\s*(</seg>)*\\n*\\s*((</hi>)\\n*\\s*)*)\")\n",
    "    \n",
    "    results = pattern.findall(text)\n",
    "    \n",
    "    #if results is not None:\n",
    "        #for result in results:\n",
    "            #print(\"les résultats : \"+str(result))\n",
    "            #text=re.sub(\"\".join(result),\"M\"+result[4],text)\n",
    "            #print(\"le résultat : \"+\"M\"+result[4])\n",
    "            \n",
    "    utf8_parser = ET.XMLParser(encoding='utf-8',remove_blank_text=True, resolve_entities=False, ns_clean=True, dtd_validation=False)\n",
    "    tree=parse_from_unicode(text)\n",
    "    tree=strip_ns_prefix(tree)\n",
    "    ps = tree.findall(\".//p\")\n",
    "    \n",
    "    for p in ps:\n",
    "        italics=lxml.html.tostring(p, method=\"text\", encoding=\"utf8\")\n",
    "        pattern=\"M(\\s*\\n*\\s*)([mle]{2,})(\\s*\\n*\\s*)\"\n",
    "        if re.match(pattern,italics.decode(\"utf8\")):\n",
    "            ET.strip_tags(p,\"hi\")\n",
    "            print(ET.tostring(p, pretty_print=True, encoding=\"utf8\"))\n",
    "    \n",
    "            \n",
    "        \n",
    "    #print(ET.tostring(tree, pretty_print=True, encoding=\"utf8\"))"
   ]
  },
  {
   "cell_type": "code",
   "execution_count": null,
   "metadata": {},
   "outputs": [],
   "source": []
  }
 ],
 "metadata": {
  "kernelspec": {
   "display_name": "Python 3",
   "language": "python",
   "name": "python3"
  },
  "language_info": {
   "codemirror_mode": {
    "name": "ipython",
    "version": 3
   },
   "file_extension": ".py",
   "mimetype": "text/x-python",
   "name": "python",
   "nbconvert_exporter": "python",
   "pygments_lexer": "ipython3",
   "version": "3.6.9"
  }
 },
 "nbformat": 4,
 "nbformat_minor": 2
}
