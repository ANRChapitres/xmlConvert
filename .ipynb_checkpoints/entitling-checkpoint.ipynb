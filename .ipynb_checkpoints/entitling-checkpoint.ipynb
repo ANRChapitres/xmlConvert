{
 "cells": [
  {
   "cell_type": "code",
   "execution_count": 2,
   "metadata": {},
   "outputs": [],
   "source": [
    "import xml.etree.ElementTree as ET"
   ]
  },
  {
   "cell_type": "code",
   "execution_count": 3,
   "metadata": {},
   "outputs": [],
   "source": [
    "import copy"
   ]
  },
  {
   "cell_type": "code",
   "execution_count": 4,
   "metadata": {},
   "outputs": [],
   "source": [
    "import sys"
   ]
  },
  {
   "cell_type": "code",
   "execution_count": 5,
   "metadata": {},
   "outputs": [],
   "source": [
    "import os"
   ]
  },
  {
   "cell_type": "code",
   "execution_count": 6,
   "metadata": {},
   "outputs": [],
   "source": [
    "import glob"
   ]
  },
  {
   "cell_type": "code",
   "execution_count": 7,
   "metadata": {},
   "outputs": [],
   "source": [
    "from bs4 import BeautifulSoup"
   ]
  },
  {
   "cell_type": "code",
   "execution_count": 8,
   "metadata": {},
   "outputs": [],
   "source": [
    "import unidecode"
   ]
  },
  {
   "cell_type": "code",
   "execution_count": 9,
   "metadata": {},
   "outputs": [],
   "source": [
    "import re"
   ]
  },
  {
   "cell_type": "code",
   "execution_count": 10,
   "metadata": {},
   "outputs": [],
   "source": [
    "xml_folder=\"/home/odysseus/Bureau/ANR/code/xmlConvert/test_epubs_manquants/\""
   ]
  },
  {
   "cell_type": "code",
   "execution_count": 11,
   "metadata": {},
   "outputs": [
    {
     "name": "stdout",
     "output_type": "stream",
     "text": [
      "/home/odysseus/Bureau/ANR/code/xmlConvert/test_epubs_manquants/L_événement (Folio) (French Edition).xml\n",
      "/home/odysseus/Bureau/ANR/code/xmlConvert/test_epubs_manquants/Fief (French Edition).xml\n",
      "/home/odysseus/Bureau/ANR/code/xmlConvert/test_epubs_manquants/La femme gelée (Folio) (French Edition).xml\n",
      "/home/odysseus/Bureau/ANR/code/xmlConvert/test_epubs_manquants/La force des choses (Tome 1) (Folio) (French Edition).xml\n",
      "/home/odysseus/Bureau/ANR/code/xmlConvert/test_epubs_manquants/Leurs enfants après eux (ROMANS, NOUVELL) (French Edition).xml\n",
      "/home/odysseus/Bureau/ANR/code/xmlConvert/test_epubs_manquants/Pas son genre (Littérature Française) (French Edition).xml\n",
      "/home/odysseus/Bureau/ANR/code/xmlConvert/test_epubs_manquants/Sauveur & Fils saison 4 (Médium plus) (French Edition).xml\n",
      "/home/odysseus/Bureau/ANR/code/xmlConvert/test_epubs_manquants/Face au Styx (French Edition).xml\n",
      "/home/odysseus/Bureau/ANR/code/xmlConvert/test_epubs_manquants/La Passe-miroir (Livre 1) - Les Fiancés de l_hiver (French Edition).xml\n",
      "/home/odysseus/Bureau/ANR/code/xmlConvert/test_epubs_manquants/Dehors, la tempête _ Collection Le Courage (French Edition).xml\n",
      "/home/odysseus/Bureau/ANR/code/xmlConvert/test_epubs_manquants/Journal d_un corps (Folio) (French Edition).xml\n",
      "/home/odysseus/Bureau/ANR/code/xmlConvert/test_epubs_manquants/La Passe-miroir (Livre 3) - La Mémoire de Babel (French Edition).xml\n",
      "/home/odysseus/Bureau/ANR/code/xmlConvert/test_epubs_manquants/La vie poétique (Tome 1) - Comment gagner sa vie honnêtement (Folio) (French Edition).xml\n",
      "/home/odysseus/Bureau/ANR/code/xmlConvert/test_epubs_manquants/L_Œuvre posthume de Thomas Pilaster (Romans) (French Edition).xml\n",
      "/home/odysseus/Bureau/ANR/code/xmlConvert/test_epubs_manquants/Les Mandarins (Tome 2) (Folio) (French Edition).xml\n",
      "/home/odysseus/Bureau/ANR/code/xmlConvert/test_epubs_manquants/L_enfant d_Ingolstadt _ Dernier Royaume, X - collection littéraire dirigée par Martine Saada (French Edition).xml\n",
      "/home/odysseus/Bureau/ANR/code/xmlConvert/test_epubs_manquants/Aucun souvenir assez solide (SC. FICTION) (French Edition).xml\n",
      "/home/odysseus/Bureau/ANR/code/xmlConvert/test_epubs_manquants/Meursault, contre-enquête (Domaine français) (French Edition).xml\n",
      "/home/odysseus/Bureau/ANR/code/xmlConvert/test_epubs_manquants/Environs et mesures (Le Cabinet des lettrés) (French Edition).xml\n",
      "/home/odysseus/Bureau/ANR/code/xmlConvert/test_epubs_manquants/Le consentement (Littérature Française) (French Edition).xml\n",
      "/home/odysseus/Bureau/ANR/code/xmlConvert/test_epubs_manquants/L_Enfant des ténèbres.xml\n",
      "/home/odysseus/Bureau/ANR/code/xmlConvert/test_epubs_manquants/La Zone du Dehors (LITTERATURE) (French Edition).xml\n",
      "/home/odysseus/Bureau/ANR/code/xmlConvert/test_epubs_manquants/En souvenir d_André (French Edition).xml\n",
      "/home/odysseus/Bureau/ANR/code/xmlConvert/test_epubs_manquants/Les Mandarins (Tome 1) (Folio) (French Edition).xml\n",
      "/home/odysseus/Bureau/ANR/code/xmlConvert/test_epubs_manquants/Cendrillon (La Bleue) (French Edition).xml\n",
      "/home/odysseus/Bureau/ANR/code/xmlConvert/test_epubs_manquants/La Reine du silence (Folio) (French Edition).xml\n",
      "/home/odysseus/Bureau/ANR/code/xmlConvert/test_epubs_manquants/L_Inconnue de la Seine (blanche) (French Edition).xml\n",
      "/home/odysseus/Bureau/ANR/code/xmlConvert/test_epubs_manquants/Les Saisons de Louveplaine (Cadre Rouge) (French Edition).xml\n",
      "/home/odysseus/Bureau/ANR/code/xmlConvert/test_epubs_manquants/Comment j_ai appris à lire (Hors collection littérature française) (French Edition).xml\n",
      "/home/odysseus/Bureau/ANR/code/xmlConvert/test_epubs_manquants/Sauveur & Fils saison 3 (French Edition).xml\n",
      "/home/odysseus/Bureau/ANR/code/xmlConvert/test_epubs_manquants/Aux animaux la guerre (Actes noirs) (French Edition).xml\n",
      "/home/odysseus/Bureau/ANR/code/xmlConvert/test_epubs_manquants/La Liseuse.xml\n",
      "/home/odysseus/Bureau/ANR/code/xmlConvert/test_epubs_manquants/Fukushima_ Récit d_un désastre (Folio) (French Edition).xml\n",
      "/home/odysseus/Bureau/ANR/code/xmlConvert/test_epubs_manquants/Les heures souterraines (Littérature française) (French Edition).xml\n",
      "/home/odysseus/Bureau/ANR/code/xmlConvert/test_epubs_manquants/Code 93 (French Edition).xml\n",
      "/home/odysseus/Bureau/ANR/code/xmlConvert/test_epubs_manquants/Le nouvel amour (Folio) (French Edition).xml\n",
      "/home/odysseus/Bureau/ANR/code/xmlConvert/test_epubs_manquants/La Passe-miroir (Livre 4) - La Tempête des échos (French Edition).xml\n",
      "/home/odysseus/Bureau/ANR/code/xmlConvert/test_epubs_manquants/La force des choses (Tome 2) (Folio) (French Edition).xml\n",
      "/home/odysseus/Bureau/ANR/code/xmlConvert/test_epubs_manquants/Riviera (Textes français) (French Edition).xml\n",
      "/home/odysseus/Bureau/ANR/code/xmlConvert/test_epubs_manquants/Sombre dimanche_ 1 (LITT.GENERALE) (French Edition).xml\n",
      "/home/odysseus/Bureau/ANR/code/xmlConvert/test_epubs_manquants/Dans les forêts de Sibérie_ Février - Juillet 2010 (Folio) (French Edition).xml\n",
      "/home/odysseus/Bureau/ANR/code/xmlConvert/test_epubs_manquants/Les belles images (Folio) (French Edition).xml\n",
      "/home/odysseus/Bureau/ANR/code/xmlConvert/test_epubs_manquants/Mémoires d_une jeune fille rangée (Folio) (French Edition).xml\n",
      "/home/odysseus/Bureau/ANR/code/xmlConvert/test_epubs_manquants/Maladie de Sachs (Fiction) (French Edition).xml\n",
      "/home/odysseus/Bureau/ANR/code/xmlConvert/test_epubs_manquants/Les Sept Solitudes de Lorsa Lopez (Cadre Rouge) (French Edition).xml\n",
      "/home/odysseus/Bureau/ANR/code/xmlConvert/test_epubs_manquants/La Douleur (France loisirs) (French Edition).xml\n",
      "/home/odysseus/Bureau/ANR/code/xmlConvert/test_epubs_manquants/Sauveur & Fils saison 1 (French Edition).xml\n",
      "/home/odysseus/Bureau/ANR/code/xmlConvert/test_epubs_manquants/La Passe-miroir (Livre 2) - Les Disparus du Clairdelune (French Edition).xml\n",
      "/home/odysseus/Bureau/ANR/code/xmlConvert/test_epubs_manquants/Sauveur & Fils saison 2 (French Edition).xml\n",
      "/home/odysseus/Bureau/ANR/code/xmlConvert/test_epubs_manquants/Sauveur & Fils, Saison 5 (French Edition).xml\n",
      "/home/odysseus/Bureau/ANR/code/xmlConvert/test_epubs_manquants/Le Peintre d_éventail (Zulma numérique) (French Edition).xml\n",
      "/home/odysseus/Bureau/ANR/code/xmlConvert/test_epubs_manquants/En nous beaucoup d_hommes respirent (IC.VERGE) (French Edition).xml\n",
      "/home/odysseus/Bureau/ANR/code/xmlConvert/test_epubs_manquants/Les mots pour le dire (Littérature Française) (French Edition).xml\n",
      "/home/odysseus/Bureau/ANR/code/xmlConvert/test_epubs_manquants/Ecrire (Folio) (French Edition).xml\n",
      "/home/odysseus/Bureau/ANR/code/xmlConvert/test_epubs_manquants/La Horde du Contrevent (Sc. Fiction) (French Edition).xml\n",
      "/home/odysseus/Bureau/ANR/code/xmlConvert/test_epubs_manquants/Les récidivistes (Détours) (French Edition).xml\n",
      "/home/odysseus/Bureau/ANR/code/xmlConvert/test_epubs_manquants/L_Enfant éternel (Folio) (French Edition).xml\n",
      "/home/odysseus/Bureau/ANR/code/xmlConvert/test_epubs_manquants/L_Auteur et moi (ROMANS) (French Edition).xml\n",
      "/home/odysseus/Bureau/ANR/code/xmlConvert/test_epubs_manquants/Le 6e Continent_Ancien malade des hôpitaux de Paris (blanche) (French Edition).xml\n",
      "/home/odysseus/Bureau/ANR/code/xmlConvert/test_epubs_manquants/2084. La fin du monde (Blanche) (French Edition).xml\n"
     ]
    }
   ],
   "source": [
    "files= glob.iglob(xml_folder+'/**/*.xml', recursive=True)\n",
    "for file_name in files:\n",
    "    tei = open(file_name).read()\n",
    "    print (file_name)\n",
    "    if BeautifulSoup(tei).find('dc:date') is None :\n",
    "        date=\"0000\"\n",
    "    else:\n",
    "        date=BeautifulSoup(tei).find('dc:date').text[:4]\n",
    "    if BeautifulSoup(tei).find('dc:creator') is None :\n",
    "        name=\"xxx\"\n",
    "    else:\n",
    "        name=BeautifulSoup(tei).find('dc:creator').text\n",
    "        name=re.sub('[, ]+','-',name)\n",
    "    title=date+'_'+name+'_'+BeautifulSoup(tei).find('dc:title').text.replace(\" \", \"-\")\n",
    "    unaccented_title = unidecode.unidecode(title)\n",
    "    if not os.path.exists('./output/'):\n",
    "        os.makedirs('./output/')\n",
    "    f = open('./output/'+unaccented_title+'.xml', 'w')\n",
    "    f.write(tei)\n",
    "    f.close()"
   ]
  },
  {
   "cell_type": "code",
   "execution_count": null,
   "metadata": {},
   "outputs": [],
   "source": []
  }
 ],
 "metadata": {
  "kernelspec": {
   "display_name": "Python 3",
   "language": "python",
   "name": "python3"
  },
  "language_info": {
   "codemirror_mode": {
    "name": "ipython",
    "version": 3
   },
   "file_extension": ".py",
   "mimetype": "text/x-python",
   "name": "python",
   "nbconvert_exporter": "python",
   "pygments_lexer": "ipython3",
   "version": "3.6.9"
  }
 },
 "nbformat": 4,
 "nbformat_minor": 2
}
